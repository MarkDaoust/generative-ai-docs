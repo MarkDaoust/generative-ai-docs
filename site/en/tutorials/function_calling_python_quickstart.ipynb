{
  "cells": [
    {
      "cell_type": "markdown",
      "metadata": {
        "id": "headers"
      },
      "source": [
        "Project: /_project.yaml\n",
        "Book: /_book.yaml\n",
        "Keywords: examples,gemini,beginner,googleai,quickstart,python,text,chat,vision,embed\n",
        "Image_path: /static/site-assets/images/docs/logo-python.svg\n",
        "\n",
        "<link rel=\"stylesheet\" href=\"/site-assets/css/style.css\">"
      ]
    },
    {
      "cell_type": "markdown",
      "metadata": {
        "id": "yeadDkMiISin"
      },
      "source": [
        "# Gemini API: Quickstart with Python"
      ]
    },
    {
      "cell_type": "markdown",
      "metadata": {
        "id": "lEXQ3OwKIa-O"
      },
      "source": [
        "<table class=\"tfo-notebook-buttons\" align=\"left\">\n",
        "  <td>\n",
        "    <a target=\"_blank\" href=\"https://developers.generativeai.google/tutorials/text_quickstart\"><img src=\"https://developers.generativeai.google/static/site-assets/images/docs/notebook-site-button.png\" height=\"32\" width=\"32\" />View on Generative AI</a>\n",
        "  </td>\n",
        "  <td>\n",
        "    <a target=\"_blank\" href=\"https://colab.research.google.com/github/google/generative-ai-docs/blob/main/site/en/tutorials/text_quickstart.ipynb\"><img src=\"https://www.tensorflow.org/images/colab_logo_32px.png\" />Run in Google Colab</a>\n",
        "  </td>\n",
        "  <td>\n",
        "    <a target=\"_blank\" href=\"https://github.com/google/generative-ai-docs/blob/main/site/en/tutorials/text_quickstart.ipynb\"><img src=\"https://www.tensorflow.org/images/GitHub-Mark-32px.png\" />View source on GitHub</a>\n",
        "  </td>\n",
        "</table>"
      ]
    },
    {
      "cell_type": "markdown",
      "metadata": {
        "id": "FFPBKLapSCkM"
      },
      "source": [
        "## Setup\n"
      ]
    },
    {
      "cell_type": "markdown",
      "metadata": {
        "id": "wFNV1e3ASJha"
      },
      "source": [
        "\n",
        "### Install the Python SDK\n",
        "\n",
        "The Python SDK for the Gamini API, is contained in the [`google-generativeai`](https://pypi.org/project/google-generativeai/) package. Install the dependency using pip:\n"
      ]
    },
    {
      "cell_type": "code",
      "execution_count": null,
      "metadata": {
        "id": "9OEoeosRTv-5"
      },
      "outputs": [],
      "source": [
        "!pip install -U google-generativeai"
      ]
    },
    {
      "cell_type": "markdown",
      "metadata": {
        "id": "KCFF5VSTbcAR"
      },
      "source": [
        "### Import packages"
      ]
    },
    {
      "cell_type": "markdown",
      "metadata": {
        "id": "vRC2HngneEeQ"
      },
      "source": [
        "Import the necessary packages."
      ]
    },
    {
      "cell_type": "code",
      "execution_count": 2,
      "metadata": {
        "id": "TS9l5igubpHO"
      },
      "outputs": [],
      "source": [
        "import pathlib\n",
        "import textwrap\n",
        "\n",
        "import google.generativeai as genai\n",
        "\n",
        "# Used to securely store your API key\n",
        "from google.colab import userdata\n",
        "\n",
        "from IPython.display import display\n",
        "from IPython.display import Markdown\n",
        "\n",
        "\n",
        "def to_markdown(text):\n",
        "  text = text.replace('•', '  *')\n",
        "  return Markdown(textwrap.indent(text, '> ', predicate=lambda _: True))"
      ]
    },
    {
      "cell_type": "markdown",
      "metadata": {
        "id": "gHYFrFPjSGNq"
      },
      "source": [
        "\n",
        "### Setup your API key\n",
        "\n",
        "Before you can use the Gemini API, you must first obtain an API key. If you don't already have one, create a key with one click in MakerSuite.\n",
        "\n",
        "<a class=\"button button-primary\" href=\"https://makersuite.google.com/app/apikey\" target=\"_blank\" rel=\"noopener noreferrer\">Get an API key</a>\n"
      ]
    },
    {
      "cell_type": "markdown",
      "metadata": {
        "id": "tHhsUxDTdw0W"
      },
      "source": [
        "In Colab, add the key to the secrets manager under the \"🔑\" in the left panel. Give it the name `API_KEY`."
      ]
    },
    {
      "cell_type": "markdown",
      "metadata": {
        "id": "VmSlTHXxb5pV"
      },
      "source": [
        "Once you have the API key, pass it to the SDK. You can do this in two ways:\n",
        "\n",
        "* Put the key in the `GOOGLE_API_KEY` environment variable (the SDK will automatically pick it up from there).\n",
        "* Pass the key to `genai.configure(api_key=...)`\n",
        "\n"
      ]
    },
    {
      "cell_type": "code",
      "execution_count": 3,
      "metadata": {
        "id": "ab9ASynfcIZn"
      },
      "outputs": [],
      "source": [
        "# Or use `os.getenv('API_KEY')` to fetch an environment variable.\n",
        "API_KEY=userdata.get('API_KEY')\n",
        "\n",
        "genai.configure(api_key=API_KEY)"
      ]
    },
    {
      "cell_type": "markdown",
      "source": [
        "## Function calls"
      ],
      "metadata": {
        "id": "JFz04WEgOwWp"
      }
    },
    {
      "cell_type": "markdown",
      "source": [
        "The `google.ai.generativelanguage` client library providses access to the low level types required for function calling."
      ],
      "metadata": {
        "id": "Js4Y4mO20txL"
      }
    },
    {
      "cell_type": "code",
      "source": [
        "import google.ai.generativelanguage as glm"
      ],
      "metadata": {
        "id": "S53E0EE8TBUF"
      },
      "execution_count": 4,
      "outputs": []
    },
    {
      "cell_type": "markdown",
      "source": [
        "A `glm.Tool` contains a list of `glm.FunctionDeclarations`. These just describe the function, they don't implement it."
      ],
      "metadata": {
        "id": "qFD4U7ym04F5"
      }
    },
    {
      "cell_type": "code",
      "source": [
        "datetime = glm.Tool(\n",
        "    function_declarations=[\n",
        "      glm.FunctionDeclaration(\n",
        "        name='datetime',\n",
        "        description=\"Returns the current UTC date and time.\"\n",
        "      )\n",
        "    ]\n",
        ")"
      ],
      "metadata": {
        "id": "mNfJ8Hjj1BMd"
      },
      "execution_count": 5,
      "outputs": []
    },
    {
      "cell_type": "markdown",
      "source": [
        "Pass a list of tools to the `genai.GenerativeModel` constructor to give the model access:"
      ],
      "metadata": {
        "id": "a11LZTKT1CRp"
      }
    },
    {
      "cell_type": "code",
      "source": [
        "model = genai.GenerativeModel(\n",
        "    'gemini-pro',\n",
        "    tools=[datetime])"
      ],
      "metadata": {
        "id": "aGEcm_lSOv_T"
      },
      "execution_count": 6,
      "outputs": []
    },
    {
      "cell_type": "markdown",
      "source": [
        "For this basic tools support use chat-mode since tools require multiple rounds of back and forth."
      ],
      "metadata": {
        "id": "FANMyp-V1can"
      }
    },
    {
      "cell_type": "code",
      "source": [
        "chat = model.start_chat()\n",
        "\n",
        "response = chat.send_message(\n",
        "    'How many days until Christmas',\n",
        ")"
      ],
      "metadata": {
        "id": "LRx-I8i41cxT"
      },
      "execution_count": 7,
      "outputs": []
    },
    {
      "cell_type": "markdown",
      "source": [
        "When the model needs to call a tool to answer a question it returns a `glm.Part` containing a `function_call` instead of a `text` attribute:"
      ],
      "metadata": {
        "id": "S7GgtVSJ17kW"
      }
    },
    {
      "cell_type": "code",
      "source": [
        "response.candidates"
      ],
      "metadata": {
        "colab": {
          "base_uri": "https://localhost:8080/"
        },
        "id": "zQmmIhneQV_J",
        "outputId": "18647da6-6e1a-4caf-aba9-fe97610a4d96"
      },
      "execution_count": 8,
      "outputs": [
        {
          "output_type": "execute_result",
          "data": {
            "text/plain": [
              "[content {\n",
              "  parts {\n",
              "    function_call {\n",
              "      name: \"datetime\"\n",
              "      args {\n",
              "      }\n",
              "    }\n",
              "  }\n",
              "  role: \"model\"\n",
              "}\n",
              "finish_reason: STOP\n",
              "index: 0\n",
              "]"
            ]
          },
          "metadata": {},
          "execution_count": 8
        }
      ]
    },
    {
      "cell_type": "markdown",
      "source": [
        "Reply with a `glm.Part` containing a `glm.FunctionResponse` to allow the model to funish the answer:"
      ],
      "metadata": {
        "id": "woioLEWo4b5N"
      }
    },
    {
      "cell_type": "code",
      "source": [
        "response = chat.send_message(\n",
        "  glm.Content(\n",
        "    parts=[glm.Part(\n",
        "        function_response = glm.FunctionResponse(\n",
        "          name='datetime',\n",
        "          response={'datetime': 'Sun Dec 5 03:33:56 PM UTC 2023'}\n",
        "        )\n",
        "    )]\n",
        "  )\n",
        ")"
      ],
      "metadata": {
        "id": "TbmidjuxSaH6"
      },
      "execution_count": null,
      "outputs": []
    },
    {
      "cell_type": "markdown",
      "source": [
        "The model may respond with either a `text` response or another `glm.FunctionCall`:"
      ],
      "metadata": {
        "id": "6DmxLrJZ4sYl"
      }
    },
    {
      "cell_type": "code",
      "source": [
        "response.text"
      ],
      "metadata": {
        "colab": {
          "base_uri": "https://localhost:8080/",
          "height": 35
        },
        "id": "1EWmHodLVCLK",
        "outputId": "2f294733-7977-43fb-f3eb-b5932e7d970b"
      },
      "execution_count": null,
      "outputs": [
        {
          "output_type": "execute_result",
          "data": {
            "text/plain": [
              "' Christmas is on Sunday Dec 25, 2023. So, there are 20 days until Christmas.'"
            ],
            "application/vnd.google.colaboratory.intrinsic+json": {
              "type": "string"
            }
          },
          "metadata": {},
          "execution_count": 15
        }
      ]
    },
    {
      "cell_type": "markdown",
      "source": [
        "That `datetime` tool only contained a single function, which takes no arguments. Next try something more complex.\n",
        "\n",
        "LLM's are bad at arithmetic:\n"
      ],
      "metadata": {
        "id": "KyWYFj0b43X2"
      }
    },
    {
      "cell_type": "code",
      "source": [
        "model = genai.GenerativeModel('gemini-pro')\n",
        "chat = model.start_chat()\n",
        "\n",
        "a = 2312371\n",
        "b = 234234\n",
        "\n",
        "response = chat.send_message(\n",
        "    f\"What's {a} X {b} ?\",\n",
        "\n",
        ")\n",
        "print(response.text)"
      ],
      "metadata": {
        "id": "YCBm3EFDH0Kr",
        "outputId": "fd29abc8-be92-4b1c-cc4a-54077ea8cc71",
        "colab": {
          "base_uri": "https://localhost:8080/",
          "height": 34
        }
      },
      "execution_count": 22,
      "outputs": [
        {
          "output_type": "stream",
          "name": "stdout",
          "text": [
            "5447805529729\n"
          ]
        }
      ]
    },
    {
      "cell_type": "code",
      "source": [
        "a*b"
      ],
      "metadata": {
        "colab": {
          "base_uri": "https://localhost:8080/"
        },
        "id": "u2cTnhrzIEQe",
        "outputId": "f8bd6ef3-03a2-42c5-c927-7cf92b2c3c14"
      },
      "execution_count": 23,
      "outputs": [
        {
          "output_type": "execute_result",
          "data": {
            "text/plain": [
              "541635908814"
            ]
          },
          "metadata": {},
          "execution_count": 23
        }
      ]
    },
    {
      "cell_type": "markdown",
      "source": [
        "Sometimes it's a fraction of 1% off, sometimes it's off by 10X."
      ],
      "metadata": {
        "id": "xmoe63Cd5-AF"
      }
    },
    {
      "cell_type": "code",
      "source": [
        "error_percent = (a*b - int(response.text.replace(',', '')))/(a*b) * 100\n",
        "\n",
        "print(f\"Error: {error_percent:.2f}%\")"
      ],
      "metadata": {
        "colab": {
          "base_uri": "https://localhost:8080/"
        },
        "id": "dt0NhB5NJAOz",
        "outputId": "09a977d5-a33e-4d8a-fe9b-966270c3d8bf"
      },
      "execution_count": 25,
      "outputs": [
        {
          "output_type": "stream",
          "name": "stdout",
          "text": [
            "Error: -905.81%\n"
          ]
        }
      ]
    },
    {
      "cell_type": "markdown",
      "source": [
        "So, describe a calculator as a `glm.Tool`:"
      ],
      "metadata": {
        "id": "eY6RmFQ76FVu"
      }
    },
    {
      "cell_type": "code",
      "source": [
        "calculator = glm.Tool(\n",
        "    function_declarations=[\n",
        "      glm.FunctionDeclaration(\n",
        "        name='add',\n",
        "        description=\"Returns sum of two numbers.\",\n",
        "        parameters=glm.Schema(\n",
        "            type=glm.Type.OBJECT,\n",
        "            properties={\n",
        "                'a': glm.Schema(type=glm.Type.NUMBER),\n",
        "                'b': glm.Schema(type=glm.Type.NUMBER)\n",
        "            }\n",
        "        )\n",
        "      ),\n",
        "      glm.FunctionDeclaration(\n",
        "        name='multiply',\n",
        "        description=\"Returns product of two numbers.\",\n",
        "        parameters=glm.Schema(\n",
        "            type=glm.Type.OBJECT,\n",
        "            properties={\n",
        "                'a':glm.Schema(type=glm.Type.NUMBER),\n",
        "                'b':glm.Schema(type=glm.Type.NUMBER)\n",
        "            }\n",
        "\n",
        "        )\n",
        "      )\n",
        "    ])"
      ],
      "metadata": {
        "id": "qCwHM4WbC4wb"
      },
      "execution_count": 31,
      "outputs": []
    },
    {
      "cell_type": "markdown",
      "source": [
        "Give the model the calculator and ask again:"
      ],
      "metadata": {
        "id": "jS6ruiTp6VBf"
      }
    },
    {
      "cell_type": "code",
      "source": [
        "model = genai.GenerativeModel('gemini-pro', tools=[calculator])\n",
        "chat = model.start_chat()\n",
        "\n",
        "response = chat.send_message(\n",
        "    \"What's 2312371 X 234234 ?\",\n",
        ")"
      ],
      "metadata": {
        "id": "xwhWG22cIIDU"
      },
      "execution_count": 32,
      "outputs": []
    },
    {
      "cell_type": "code",
      "source": [
        "response.candidates"
      ],
      "metadata": {
        "colab": {
          "base_uri": "https://localhost:8080/"
        },
        "id": "xhey4QA0DTJf",
        "outputId": "624bd892-6b7a-4e10-e2a9-99777dea2a38"
      },
      "execution_count": 33,
      "outputs": [
        {
          "output_type": "execute_result",
          "data": {
            "text/plain": [
              "[content {\n",
              "  parts {\n",
              "    function_call {\n",
              "      name: \"multiply\"\n",
              "      args {\n",
              "        fields {\n",
              "          key: \"a\"\n",
              "          value {\n",
              "            number_value: 2312371.0\n",
              "          }\n",
              "        }\n",
              "        fields {\n",
              "          key: \"b\"\n",
              "          value {\n",
              "            number_value: 234234.0\n",
              "          }\n",
              "        }\n",
              "      }\n",
              "    }\n",
              "  }\n",
              "  role: \"model\"\n",
              "}\n",
              "finish_reason: STOP\n",
              "index: 0\n",
              "]"
            ]
          },
          "metadata": {},
          "execution_count": 33
        }
      ]
    }
  ],
  "metadata": {
    "colab": {
      "provenance": [],
      "toc_visible": true
    },
    "kernelspec": {
      "display_name": "Python 3",
      "name": "python3"
    },
    "language_info": {
      "name": "python"
    }
  },
  "nbformat": 4,
  "nbformat_minor": 0
}